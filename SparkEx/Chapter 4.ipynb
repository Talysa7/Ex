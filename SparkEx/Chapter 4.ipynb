{
 "cells": [
  {
   "cell_type": "code",
   "execution_count": 2,
   "metadata": {},
   "outputs": [
    {
     "data": {
      "text/plain": [
       "DataFrame[(number + 10): bigint]"
      ]
     },
     "execution_count": 2,
     "metadata": {},
     "output_type": "execute_result"
    }
   ],
   "source": [
    "# DataFrame과 DataSet에 대해 알아보자.\n",
    "# 이걸 이해하려면 스키마라는 걸 알아야 한다. \n",
    "# 스키마는 컬럼 이름과 데이터 타입을 정의한다. 데이터 소스에서 얻어내거나 직접 정의할 수 있다.\n",
    "\n",
    "# 아무튼 DataFrame은 비타입형(?), DataSet은 타입형이다.\n",
    "# 왜때문이냐면 DataFrame은 스키마에 명시된 타입이랑 같은지를 런타임돼서야 확인한다!\n",
    "# 그리고 DataSet은 자바 기반 언어에서만 지원한다. 더 안 써도 될 것 같다...\n",
    "\n",
    "# 숫자 500 범위의 DataFrame을 만들었다!\n",
    "df = spark.range(500).toDF(\"number\")\n",
    "\n",
    "# 만약 그 DataFrame에 뭔가 연산을 시키면, 파이썬 코드 레벨에서 연산하지 않고 스파크가 한다. 돌려보자.\n",
    "df.select(df[\"number\"]+10)"
   ]
  },
  {
   "cell_type": "code",
   "execution_count": 3,
   "metadata": {},
   "outputs": [
    {
     "data": {
      "text/plain": [
       "[Row(id=0), Row(id=1)]"
      ]
     },
     "execution_count": 3,
     "metadata": {},
     "output_type": "execute_result"
    }
   ],
   "source": [
    "# 로우는 데이터 레코드다. DataFrame은 Row 타입으로 구성된단다. \n",
    "# 이렇게 DataFrame을 만들어서 어떻게 생겨먹었나 출력해보면 Row가 두 마리 있는 배열로 나온다.\n",
    "\n",
    "spark.range(2).collect()"
   ]
  },
  {
   "cell_type": "code",
   "execution_count": 8,
   "metadata": {},
   "outputs": [
    {
     "data": {
      "text/plain": [
       "ByteType"
      ]
     },
     "execution_count": 8,
     "metadata": {},
     "output_type": "execute_result"
    }
   ],
   "source": [
    "# 스파크의 데이터 타입에 대해 보는데 나는 지금 파이썬을 쓰고 있다.\n",
    "# 제약 사항을 확인해보자. 데이터 타입들을 냅다 불러온다.\n",
    "\n",
    "from pyspark.sql.types import * \n",
    "\n",
    "# 변수 하나 만들고 타입을 준다. 그 타입이 제대로 먹혔나 찍어보자!\n",
    "b = ByteType()\n",
    "b\n",
    "\n",
    "# 대체로 예상 가능한 범위의 타입들이 있다. StructureField 빼고. StructureField(name, dataType, [nullable])"
   ]
  },
  {
   "cell_type": "code",
   "execution_count": null,
   "metadata": {},
   "outputs": [],
   "source": []
  }
 ],
 "metadata": {
  "kernelspec": {
   "display_name": "Python 3",
   "language": "python",
   "name": "python3"
  },
  "language_info": {
   "codemirror_mode": {
    "name": "ipython",
    "version": 3
   },
   "file_extension": ".py",
   "mimetype": "text/x-python",
   "name": "python",
   "nbconvert_exporter": "python",
   "pygments_lexer": "ipython3",
   "version": "3.6.5"
  }
 },
 "nbformat": 4,
 "nbformat_minor": 2
}
