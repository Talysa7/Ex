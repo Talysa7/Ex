{
 "cells": [
  {
   "cell_type": "code",
   "execution_count": 2,
   "metadata": {},
   "outputs": [
    {
     "name": "stdout",
     "output_type": "stream",
     "text": [
      "root\n",
      " |-- InvoiceNo: string (nullable = true)\n",
      " |-- StockCode: string (nullable = true)\n",
      " |-- Description: string (nullable = true)\n",
      " |-- Quantity: integer (nullable = true)\n",
      " |-- InvoiceDate: timestamp (nullable = true)\n",
      " |-- UnitPrice: double (nullable = true)\n",
      " |-- CustomerID: double (nullable = true)\n",
      " |-- Country: string (nullable = true)\n",
      "\n"
     ]
    }
   ],
   "source": [
    "# 로컬이니까 파티션 수를 줄인다.\n",
    "spark.conf.set(\"spark.sql.shuffle.partitions\", \"5\")\n",
    "\n",
    "# 예제 파일 가져오자!\n",
    "staticDataFrame = spark.read.format(\"csv\")\\\n",
    ".option(\"header\", \"true\")\\\n",
    ".option(\"inferSchema\", \"true\")\\\n",
    ".load(\"/Users/talysa/Documents/Study/Spark-The-Definitive-Guide/data/retail-data/by-day/*.csv\")\n",
    "\n",
    "# 가져온 데이터 테이블로 저장하자. 스키마도 뽑아보자.\n",
    "staticDataFrame.createOrReplaceTempView(\"retail_data\")\n",
    "staticSchema=staticDataFrame.schema\n",
    "staticDataFrame.printSchema()"
   ]
  },
  {
   "cell_type": "code",
   "execution_count": 3,
   "metadata": {},
   "outputs": [
    {
     "name": "stdout",
     "output_type": "stream",
     "text": [
      "+----------+--------------------+------------------+\n",
      "|CustomerId|              window|   sum(total_cost)|\n",
      "+----------+--------------------+------------------+\n",
      "|   13417.0|[2011-12-04 09:00...|            404.83|\n",
      "|   15358.0|[2011-12-05 09:00...| 830.0600000000003|\n",
      "|   15392.0|[2011-12-05 09:00...|304.40999999999997|\n",
      "|   15290.0|[2011-12-05 09:00...|263.02000000000004|\n",
      "|   16811.0|[2011-12-05 09:00...|             232.3|\n",
      "|   12748.0|[2011-12-05 09:00...| 363.7899999999999|\n",
      "|   16500.0|[2011-12-05 09:00...| 52.74000000000001|\n",
      "|   16873.0|[2011-12-05 09:00...|1854.8300000000002|\n",
      "|   14060.0|[2011-12-05 09:00...|297.47999999999996|\n",
      "|   14649.0|[2011-12-05 09:00...| 513.9899999999998|\n",
      "+----------+--------------------+------------------+\n",
      "only showing top 10 rows\n",
      "\n"
     ]
    }
   ],
   "source": [
    "# 윈도우 함수 쓸거다. 임포트하자.\n",
    "from pyspark.sql.functions import window, col\n",
    "\n",
    "# 고객 아이디, 총 지른 금액, 지른 시간 정보 뽑아온다.\n",
    "# 고객 아이디 기준으로 정렬하는데, 지른 시간 기준으로 합산? 일단 돌려보자.\n",
    "staticDataFrame.selectExpr(\n",
    "    \"CustomerId\", \"(UnitPrice * Quantity) as total_cost\", \"InvoiceDate\")\\\n",
    ".groupBy(\n",
    "    col(\"CustomerId\"), window(col(\"InvoiceDate\"), \"1 day\"))\\\n",
    ".sum(\"total_cost\")\\\n",
    ".show(10)"
   ]
  },
  {
   "cell_type": "code",
   "execution_count": 4,
   "metadata": {},
   "outputs": [],
   "source": [
    "# 스트리밍을 해보자. read 대신 readStream을 쓴다.\n",
    "# 아까 빼논 스키마 쌔벼쓰자!\n",
    "# streamingDataFrame=spark.readStream\\\n",
    "#    .schema(staticSchema)\\\n",
    "#    .option(\"maxFilesPerTrigger\", 1)\\\n",
    "#    .format(\"csv\")\\\n",
    "#    .option(\"header\", \"true\")\\\n",
    "#    .load(\"/Users/talysa/Documents/Study/Spark-The-Definitive-Guide/data/retail-data/by-day/*.csv\")\n",
    "\n",
    "# 스트리밍 유형인지 확인. 맞으면 true 반환.\n",
    "# streamingDataFrame.isStreaming\n",
    "\n",
    "# 이것도 맥북을 이륙시켜서 주석 처리."
   ]
  },
  {
   "cell_type": "code",
   "execution_count": 15,
   "metadata": {},
   "outputs": [],
   "source": [
    "# 스트리밍으로 아까 뽑은 데이터 다시 뽑아보자. \n",
    "# show는 못한다. 했더니 에러 난다! 지연 연산이라서 액션을 호출하기 전엔 스파크가 안 돌려서 그런다.\n",
    "# purchaseByCustomerPerHour = streamingDataFrame\\\n",
    "# .selectExpr(\n",
    "#     \"CustomerId\", \"(UnitPrice * Quantity) as total_cost\", \"InvoiceDate\")\\\n",
    "# .groupBy(\n",
    "#     col(\"CustomerId\"), window(col(\"InvoiceDate\"), \"1 day\"))\\\n",
    "# .sum(\"total_cost\")"
   ]
  },
  {
   "cell_type": "code",
   "execution_count": 24,
   "metadata": {},
   "outputs": [],
   "source": [
    "# 위에 코드는 이렇게 돌리라고 시켜야 돌린다. 메모리 어딘가에 쓰라고 시켰다. 한 번 실행하고 나서 두 번째 실행하면 에러난다! 이미 있다고!\n",
    "# 콘솔에 작업한 내용 보여지게 하고 싶으면  format의 값을 \"console\"로 변경한다. \n",
    "# 근데 이렇게 하면 맥북 이륙함. 그래서 주석처리 해 놓았다.\n",
    "# purchaseByCustomerPerHour.writeStream\\\n",
    "#    .format(\"memory\")\\\n",
    "#    .queryName(\"customer_purchases\")\\\n",
    "#    .outputMode(\"complete\")\\\n",
    "#    .start()"
   ]
  },
  {
   "cell_type": "code",
   "execution_count": 25,
   "metadata": {},
   "outputs": [],
   "source": [
    "# 아무튼 한 번 돌려서 메모리에 스트리밍한 거 올라갔다. 뽑아보자.\n",
    "# spark.sql(\"\"\"\n",
    "#    SELECT *\n",
    "#    FROM customer_purchases\n",
    "#    ORDER BY 'sum total_cost' DESC\n",
    "# \"\"\")\\\n",
    "# .show(10)"
   ]
  },
  {
   "cell_type": "code",
   "execution_count": 5,
   "metadata": {},
   "outputs": [
    {
     "name": "stdout",
     "output_type": "stream",
     "text": [
      "+---------+---------+--------------------+--------+-------------------+---------+----------+--------------+-----------+\n",
      "|InvoiceNo|StockCode|         Description|Quantity|        InvoiceDate|UnitPrice|CustomerID|       Country|day_of_week|\n",
      "+---------+---------+--------------------+--------+-------------------+---------+----------+--------------+-----------+\n",
      "|   580538|    23084|  RABBIT NIGHT LIGHT|      48|2011-12-05 08:38:00|     1.79|   14075.0|United Kingdom|     Monday|\n",
      "|   580538|    23077| DOUGHNUT LIP GLOSS |      20|2011-12-05 08:38:00|     1.25|   14075.0|United Kingdom|     Monday|\n",
      "|   580538|    22906|12 MESSAGE CARDS ...|      24|2011-12-05 08:38:00|     1.65|   14075.0|United Kingdom|     Monday|\n",
      "|   580538|    21914|BLUE HARMONICA IN...|      24|2011-12-05 08:38:00|     1.25|   14075.0|United Kingdom|     Monday|\n",
      "|   580538|    22467|   GUMBALL COAT RACK|       6|2011-12-05 08:38:00|     2.55|   14075.0|United Kingdom|     Monday|\n",
      "+---------+---------+--------------------+--------+-------------------+---------+----------+--------------+-----------+\n",
      "only showing top 5 rows\n",
      "\n"
     ]
    }
   ],
   "source": [
    "# 머!신!러!닝!을 해보자.\n",
    "# 임포트하자.\n",
    "from pyspark.sql.functions import date_format, col\n",
    "\n",
    "# 파일에서 불러온 데이터셋을 날짜 가지고 뭔가 한다. 이게 뭐지??? 찾아보니 날짜 컬럼 가지고 합치나보다.\n",
    "preppedDataFrame = staticDataFrame\\\n",
    "    .na.fill(0)\\\n",
    "    .withColumn(\"day_of_week\", date_format(col(\"InvoiceDate\"), \"EEEE\"))\\\n",
    "    .coalesce(5)\n",
    "preppedDataFrame.show(5)"
   ]
  },
  {
   "cell_type": "code",
   "execution_count": 7,
   "metadata": {},
   "outputs": [
    {
     "name": "stdout",
     "output_type": "stream",
     "text": [
      "Train :  245903\n",
      "Test :  296006\n"
     ]
    }
   ],
   "source": [
    "# 데이터를 학습용과 테스트용으로 나눈다.\n",
    "trainDataFrame = preppedDataFrame\\\n",
    "    .where(\"InvoiceDate < '2011-07-01'\")\n",
    "testDataFrame = preppedDataFrame\\\n",
    "    .where(\"InvoiceDate >= '2011-07-01'\")\n",
    "\n",
    "#각각 몇 개인지 보자!\n",
    "print(\"Train : \", trainDataFrame.count())\n",
    "print(\"Test : \", testDataFrame.count())"
   ]
  },
  {
   "cell_type": "code",
   "execution_count": 8,
   "metadata": {},
   "outputs": [],
   "source": [
    "# 트랜스포메이션\n",
    "from pyspark.ml.feature import StringIndexer\n",
    "\n",
    "# 요일을 수치형으로 반환, 월요일은 1, 토요일은 6\n",
    "indexer = StringIndexer()\\\n",
    "    .setInputCol(\"day_of_week\")\\\n",
    "    .setOutputCol(\"day_of_week_index\")"
   ]
  },
  {
   "cell_type": "code",
   "execution_count": 10,
   "metadata": {},
   "outputs": [],
   "source": [
    "# 어떤 요일인지 여부를 알려주는 식으로 하려면 이렇게 하면 된다.\n",
    "from pyspark.ml.feature import OneHotEncoder\n",
    "\n",
    "encoder = OneHotEncoder()\\\n",
    "    .setInputCol(\"day_of_week_index\")\\\n",
    "    .setOutputCol(\"day_of_week_encoded\")"
   ]
  },
  {
   "cell_type": "code",
   "execution_count": 15,
   "metadata": {},
   "outputs": [],
   "source": [
    "# 입력 데이터를 벡터로 구성하자! 품목 가격, 수량, 요일을 넣었다. 결과물은 features라는 이름의 벡터 하나로 뱉는다.\n",
    "from pyspark.ml.feature import VectorAssembler\n",
    "\n",
    "vectorAssembler = VectorAssembler()\\\n",
    "    .setInputCols([\"UnitPrice\", \"Quantity\", \"day_of_week_encoded\"])\\\n",
    "    .setOutputCol(\"features\")"
   ]
  },
  {
   "cell_type": "code",
   "execution_count": 17,
   "metadata": {},
   "outputs": [],
   "source": [
    "# 형 변환을 시키는 파이프라인 세팅\n",
    "# 요일은 숫자로, 그 다음 요일 확인하고, 벡터에 집어 넣는 식인가보다.\n",
    "from pyspark.ml import Pipeline\n",
    "\n",
    "transformationPipeline = Pipeline()\\\n",
    "    .setStages([indexer, encoder, vectorAssembler])"
   ]
  },
  {
   "cell_type": "code",
   "execution_count": 19,
   "metadata": {},
   "outputs": [],
   "source": [
    "# 학습 데이터 형태를 잡아줄 파이프라인을 만든다. 아까 만든 파이프라인을 집어 넣음.\n",
    "fittedPipeline = transformationPipeline.fit(trainDataFrame)"
   ]
  },
  {
   "cell_type": "code",
   "execution_count": 46,
   "metadata": {},
   "outputs": [],
   "source": [
    "# 이제야 다 다듬어진 학습 데이터를 준비!\n",
    "transformedTraining = fittedPipeline.transform(trainDataFrame)\n",
    "\n",
    "# 데이터 캐싱은 이렇게 한다는데 이번 챕터에서는 빠졌다. 아무튼 실행해보면 각 컬럼의 자료형을 알 수 있다. \n",
    "# transformedTraining.cache()"
   ]
  },
  {
   "cell_type": "code",
   "execution_count": 47,
   "metadata": {},
   "outputs": [],
   "source": [
    "# 머신러닝을 실행할 인스턴스를 만든다. 오오 인스턴스 오오\n",
    "# KMeans라는 알고리즘을 써서 KMeansModel을 만들거다!\n",
    "from pyspark.ml.clustering import KMeans\n",
    "\n",
    "# .setK에서 에러나! 그래서 좀 고침.\n",
    "kmeans = KMeans().setK(2).setSeed(1)\n",
    "kmModel = kmeans.fit(transformedTraining)"
   ]
  },
  {
   "cell_type": "code",
   "execution_count": 48,
   "metadata": {},
   "outputs": [
    {
     "data": {
      "text/plain": [
       "8921808206.576424"
      ]
     },
     "execution_count": 48,
     "metadata": {},
     "output_type": "execute_result"
    }
   ],
   "source": [
    "# 학습 후 비용을 계산해보자. 군집 비용이라는 거라는데 먹는 건가...\n",
    "transformedTest = fittedPipeline.transform(testDataFrame)\n",
    "kmModel.computeCost(transformedTest)"
   ]
  },
  {
   "cell_type": "code",
   "execution_count": 50,
   "metadata": {},
   "outputs": [
    {
     "data": {
      "text/plain": [
       "DataFrame[_1: bigint]"
      ]
     },
     "execution_count": 50,
     "metadata": {},
     "output_type": "execute_result"
    }
   ],
   "source": [
    "# 이번에는 DataFrame 말고 RDD를 가지고 놀자.\n",
    "# 병렬로 RDD를 맹그러서 DF로 변환까지 시킨다.\n",
    "from pyspark.sql import Row\n",
    "\n",
    "spark.sparkContext.parallelize([Row(1), Row(2), Row(3)]).toDF()"
   ]
  },
  {
   "cell_type": "code",
   "execution_count": null,
   "metadata": {},
   "outputs": [],
   "source": [
    "# SparkR은 패스. 아직 R 책 다 안 봤다.\n",
    "# 아무튼 스트리밍은 계속 막 퍼오고 난리도 아니라서 맥북이 이륙한다. 자세한 사용법을 알고 써야겠다."
   ]
  }
 ],
 "metadata": {
  "kernelspec": {
   "display_name": "Python 3",
   "language": "python",
   "name": "python3"
  },
  "language_info": {
   "codemirror_mode": {
    "name": "ipython",
    "version": 3
   },
   "file_extension": ".py",
   "mimetype": "text/x-python",
   "name": "python",
   "nbconvert_exporter": "python",
   "pygments_lexer": "ipython3",
   "version": "3.6.5"
  }
 },
 "nbformat": 4,
 "nbformat_minor": 2
}
